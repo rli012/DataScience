{
 "cells": [
  {
   "cell_type": "markdown",
   "metadata": {},
   "source": [
    "## Types of Machine Learning Systems"
   ]
  },
  {
   "cell_type": "markdown",
   "metadata": {},
   "source": [
    "###  1. Supervised/Unsupervised Learning\n",
    "\n",
    "+ Supervised Learning\n",
    "+ Unsupervised Learning\n",
    "+ Semisupervised Learning\n",
    "+ Reinforcement Learning"
   ]
  },
  {
   "cell_type": "markdown",
   "metadata": {},
   "source": [
    "### 2. Batch and Online Learning\n",
    "\n",
    "+ Batch Learning\n",
    "+ Online Learning"
   ]
  },
  {
   "cell_type": "markdown",
   "metadata": {},
   "source": [
    "### 3. Instance-based Versus Model-based Learning\n",
    "\n",
    "+ Instance-based Learning\n",
    "+ Model_based Learning"
   ]
  },
  {
   "cell_type": "code",
   "execution_count": null,
   "metadata": {},
   "outputs": [],
   "source": [
    "**************************************************************************"
   ]
  },
  {
   "cell_type": "markdown",
   "metadata": {},
   "source": [
    "### Supervised Learning\n",
    "\n",
    "In supervised learning, the training data you feed to the algorithm includes the desired solutions, called labels  \n",
    "\n",
    "+ k-Nearest Neighbors\n",
    "+ Logistic Regression\n",
    "+ Linear Regression\n",
    "+ Support Vector Machines (SVMs)\n",
    "+ Decision Trees and Random Forests\n",
    "+ Neural networks"
   ]
  },
  {
   "cell_type": "markdown",
   "metadata": {},
   "source": [
    "### Unsupervised Learning\n",
    "\n",
    "In unsupervised learning, the training data is unlabeled  \n",
    "\n",
    "+ Clustering\n",
    "    + k-Means\n",
    "    + Hierarchical Cluster Analysis (HCA)\n",
    "    + Expectation Maximization\n",
    "    \n",
    "      \n",
    "+ Dimensionality Reduction and Visualization\n",
    "    + Principal Component Analysis (PCA)\n",
    "    + Kernal PCA\n",
    "    + Locally-Linear Embedding (LLE)\n",
    "    + t-distributed Stochastic Neighbor Embedding (t-SNE)\n",
    "    \n",
    "    \n",
    "+ Association Rule Learning\n",
    "    + Apriori\n",
    "    + Eclat"
   ]
  },
  {
   "cell_type": "code",
   "execution_count": null,
   "metadata": {},
   "outputs": [],
   "source": [
    "************************************************************************"
   ]
  },
  {
   "cell_type": "markdown",
   "metadata": {},
   "source": [
    "## Classification"
   ]
  },
  {
   "cell_type": "markdown",
   "metadata": {},
   "source": [
    "+ Binary Classification\n",
    "+ Multiclass Classification\n",
    "+ Multilabel Classification\n",
    "+ Multioutput Classification\n",
    "\n"
   ]
  },
  {
   "cell_type": "markdown",
   "metadata": {},
   "source": [
    "### Performance measures\n",
    "\n",
    "+ Cross-validation\n",
    "+ Confusion Matrix\n",
    "+ Precision/Recall Tradeoff\n",
    "+ The ROC Curve\n"
   ]
  },
  {
   "cell_type": "code",
   "execution_count": null,
   "metadata": {},
   "outputs": [],
   "source": [
    "************************************************************************"
   ]
  },
  {
   "cell_type": "markdown",
   "metadata": {},
   "source": [
    "## Training Models"
   ]
  },
  {
   "cell_type": "markdown",
   "metadata": {},
   "source": [
    "### 1. Linear regression\n",
    "\n",
    "#### Two different ways to train a linear regression model\n",
    "* Using a direct 'closed-form' equation that directly computes the model parameters\n",
    "\n",
    "* Using an iterative optimization approach, called Gradient Descent (GD)\n",
    "    + Batch GD\n",
    "    + Mini-batch GD\n",
    "    + Stochastic GD\n",
    "    \n",
    "### 2. Polynomial regression\n",
    "\n",
    "### 3. Regularized linear models\n",
    "* Ridge Regression\n",
    "* Lasso Regression\n",
    "* Elastic Net\n",
    "\n",
    "### 4. Regression models for classification\n",
    "* Logistic Regression\n",
    "* Softmax Regression"
   ]
  },
  {
   "cell_type": "code",
   "execution_count": null,
   "metadata": {},
   "outputs": [],
   "source": [
    "**************************************************************************"
   ]
  },
  {
   "cell_type": "markdown",
   "metadata": {},
   "source": [
    "## Support Vector Mahines (SVMs)"
   ]
  },
  {
   "cell_type": "markdown",
   "metadata": {},
   "source": [
    "### Linear SVM Classification\n",
    "\n",
    "### Nonlinear SVM Classification\n",
    "\n",
    "* Polynomial Kernel\n",
    "* Gaussian RBF Kernal (Adding Similarity Features)"
   ]
  },
  {
   "cell_type": "markdown",
   "metadata": {},
   "source": [
    "### SVM Regression"
   ]
  },
  {
   "cell_type": "code",
   "execution_count": null,
   "metadata": {},
   "outputs": [],
   "source": [
    "***************************************************************************"
   ]
  },
  {
   "cell_type": "markdown",
   "metadata": {},
   "source": [
    "## Decision Trees"
   ]
  },
  {
   "cell_type": "markdown",
   "metadata": {},
   "source": [
    "## Ensemble Learning and Random Forests"
   ]
  },
  {
   "cell_type": "markdown",
   "metadata": {},
   "source": [
    "## Dimensionality Reduction"
   ]
  },
  {
   "cell_type": "code",
   "execution_count": null,
   "metadata": {},
   "outputs": [],
   "source": []
  },
  {
   "cell_type": "code",
   "execution_count": null,
   "metadata": {},
   "outputs": [],
   "source": []
  }
 ],
 "metadata": {
  "kernelspec": {
   "display_name": "Python 3",
   "language": "python",
   "name": "python3"
  },
  "language_info": {
   "codemirror_mode": {
    "name": "ipython",
    "version": 3
   },
   "file_extension": ".py",
   "mimetype": "text/x-python",
   "name": "python",
   "nbconvert_exporter": "python",
   "pygments_lexer": "ipython3",
   "version": "3.6.5"
  }
 },
 "nbformat": 4,
 "nbformat_minor": 2
}
